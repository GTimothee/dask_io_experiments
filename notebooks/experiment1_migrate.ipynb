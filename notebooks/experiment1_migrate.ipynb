{
 "cells": [
  {
   "cell_type": "code",
   "execution_count": 95,
   "metadata": {},
   "outputs": [],
   "source": [
    "import os\n",
    "import pandas as pd\n",
    "from IPython.display import display\n",
    "import ipywidgets as widgets\n",
    "from ipywidgets import interact, interactive, fixed, interact_manual"
   ]
  },
  {
   "cell_type": "code",
   "execution_count": 96,
   "metadata": {},
   "outputs": [],
   "source": [
    "# get all csv file paths from a given experiment\n",
    "# select the experiment by choosing a result directory\n",
    "outputs_dir = \"../dask_io_experiments/experiment_1/outputs\"\n",
    "results_dir = \"../results/exp1/test/\""
   ]
  },
  {
   "cell_type": "code",
   "execution_count": 97,
   "metadata": {},
   "outputs": [],
   "source": [
    "def get_files_by_ext(dir_path, ext):\n",
    "    filepath_list = list()\n",
    "    for filename in os.listdir(dir_path):\n",
    "        if filename.endswith(ext):\n",
    "            p = os.path.join(dir_path, filename)\n",
    "            filepath_list.append(p)\n",
    "    return filepath_list\n",
    "\n",
    "outputs_list = get_files_by_ext(outputs_dir, '.csv')\n",
    "html_list = get_files_by_ext(outputs_dir, '.html')\n",
    "log_list = get_files_by_ext(outputs_dir, '.log')"
   ]
  },
  {
   "cell_type": "code",
   "execution_count": 98,
   "metadata": {},
   "outputs": [],
   "source": [
    "html_list = {os.path.basename(filepath).split('.')[0]: filepath for filepath in html_list}\n",
    "log_list = {os.path.basename(filepath).split('.')[0]: filepath for filepath in log_list}\n",
    "outputs = {os.path.basename(out).split('_')[1]: i for i, out in enumerate(outputs_list)}"
   ]
  },
  {
   "cell_type": "code",
   "execution_count": 99,
   "metadata": {},
   "outputs": [
    {
     "data": {
      "text/plain": [
       "{'2020-01-10 20:48:26': 0,\n",
       " '2020-01-10 15:52:39': 1,\n",
       " '2020-01-10 15:43:06': 2,\n",
       " '2020-01-10 20:36:40': 3,\n",
       " '2020-01-10 20:36:55': 4,\n",
       " '2020-01-10 15:49:33': 5,\n",
       " '2020-01-10 15:42:51': 6}"
      ]
     },
     "execution_count": 99,
     "metadata": {},
     "output_type": "execute_result"
    }
   ],
   "source": [
    "outputs"
   ]
  },
  {
   "cell_type": "code",
   "execution_count": 127,
   "metadata": {},
   "outputs": [
    {
     "data": {
      "application/vnd.jupyter.widget-view+json": {
       "model_id": "2732110b60454ab7a07f15f31727105e",
       "version_major": 2,
       "version_minor": 0
      },
      "text/plain": [
       "interactive(children=(Dropdown(description='x', options=('2020-01-10 20:48:26', '2020-01-10 15:52:39', '2020-0…"
      ]
     },
     "metadata": {},
     "output_type": "display_data"
    }
   ],
   "source": [
    "def get_associated_ids(x):\n",
    "    associated_files = list()\n",
    "    i = outputs[x]\n",
    "    output_file = outputs_list[i]\n",
    "    if not os.stat(output_file).st_size == 0:\n",
    "        df = pd.read_csv(output_file)\n",
    "        html_files = list(df['results_filepath'])\n",
    "        \n",
    "        if len(html_files) > 0:\n",
    "            for html_file in html_files:\n",
    "                _id = os.path.basename(html_file).split('.')[0]\n",
    "                print('Associated ID: ',_id)\n",
    "                print('html filepath: ', html_list[_id])\n",
    "                print('log filepath: ', log_list[_id])\n",
    "                associated_files.append(html_list[_id])\n",
    "                associated_files.append(log_list[_id])\n",
    "        print(associated_files)\n",
    "    else:\n",
    "        print('Empty file.')\n",
    "\n",
    "w = interactive(get_associated_ids, x=outputs.keys());\n",
    "display(w)"
   ]
  },
  {
   "cell_type": "code",
   "execution_count": 128,
   "metadata": {},
   "outputs": [],
   "source": [
    "associated_files = ['../dask_io_experiments/experiment_1/outputs/00fb6d42-13aa-4374-bdd4-0507536c5872.html', '../dask_io_experiments/experiment_1/outputs/00fb6d42-13aa-4374-bdd4-0507536c5872.monitor.log']"
   ]
  },
  {
   "cell_type": "code",
   "execution_count": 129,
   "metadata": {},
   "outputs": [
    {
     "data": {
      "application/vnd.jupyter.widget-view+json": {
       "model_id": "8ce6ff97678e4fac97c3b5cf1f1f8caa",
       "version_major": 2,
       "version_minor": 0
      },
      "text/plain": [
       "Button(description='Transfer files.', style=ButtonStyle())"
      ]
     },
     "metadata": {},
     "output_type": "display_data"
    },
    {
     "data": {
      "application/vnd.jupyter.widget-view+json": {
       "model_id": "1edf3d3fec7246a4aaa5a0e26e0a3467",
       "version_major": 2,
       "version_minor": 0
      },
      "text/plain": [
       "Output()"
      ]
     },
     "metadata": {},
     "output_type": "display_data"
    }
   ],
   "source": [
    "from shutil import copyfile\n",
    "\n",
    "button = widgets.Button(description=\"Transfer files.\")\n",
    "output = widgets.Output()\n",
    "display(button, output)\n",
    "\n",
    "def on_button_clicked(b):\n",
    "    with output:\n",
    "        try:\n",
    "            for fp in associated_files:\n",
    "                filename = os.path.basename(fp)\n",
    "                copyfile(fp, os.path.join(results_dir, filename))\n",
    "            print(\"Done.\")\n",
    "        except:\n",
    "            print(\"Something went wrong.\")\n",
    "\n",
    "button.on_click(on_button_clicked)"
   ]
  },
  {
   "cell_type": "code",
   "execution_count": null,
   "metadata": {},
   "outputs": [],
   "source": []
  }
 ],
 "metadata": {
  "kernelspec": {
   "display_name": "Python (thesis)",
   "language": "python",
   "name": "thesis"
  },
  "language_info": {
   "codemirror_mode": {
    "name": "ipython",
    "version": 3
   },
   "file_extension": ".py",
   "mimetype": "text/x-python",
   "name": "python",
   "nbconvert_exporter": "python",
   "pygments_lexer": "ipython3",
   "version": "3.7.5"
  }
 },
 "nbformat": 4,
 "nbformat_minor": 2
}
