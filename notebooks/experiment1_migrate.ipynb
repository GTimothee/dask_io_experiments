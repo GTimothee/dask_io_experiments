{
 "cells": [
  {
   "cell_type": "code",
   "execution_count": 1,
   "metadata": {},
   "outputs": [],
   "source": [
    "import os\n",
    "import pandas as pd\n",
    "from IPython.display import display\n",
    "import ipywidgets as widgets\n",
    "from ipywidgets import interact, interactive, fixed, interact_manual"
   ]
  },
  {
   "cell_type": "code",
   "execution_count": 7,
   "metadata": {},
   "outputs": [],
   "source": [
    "# get all csv file paths from a given experiment\n",
    "# select the experiment by choosing a result directory\n",
    "outputs_dir = \"../dask_io_experiments/experiment_1/outputs\"\n",
    "results_dir = \"../results/exp1/1/diagnostics\""
   ]
  },
  {
   "cell_type": "code",
   "execution_count": 8,
   "metadata": {},
   "outputs": [],
   "source": [
    "def get_files_by_ext(dir_path, ext):\n",
    "    filepath_list = list()\n",
    "    for filename in os.listdir(dir_path):\n",
    "        if filename.endswith(ext):\n",
    "            p = os.path.join(dir_path, filename)\n",
    "            filepath_list.append(p)\n",
    "    return filepath_list\n",
    "\n",
    "outputs_list = get_files_by_ext(outputs_dir, '.csv')\n",
    "html_list = get_files_by_ext(outputs_dir, '.html')\n",
    "log_list = get_files_by_ext(outputs_dir, '.log')"
   ]
  },
  {
   "cell_type": "code",
   "execution_count": 9,
   "metadata": {},
   "outputs": [],
   "source": [
    "html_list = {os.path.basename(filepath).split('.')[0]: filepath for filepath in html_list}\n",
    "log_list = {os.path.basename(filepath).split('.')[0]: filepath for filepath in log_list}\n",
    "outputs = {os.path.basename(out).split('_')[1]: i for i, out in enumerate(outputs_list)}"
   ]
  },
  {
   "cell_type": "code",
   "execution_count": 10,
   "metadata": {},
   "outputs": [
    {
     "data": {
      "text/plain": [
       "{'2020-01-08 22:28:16': 0,\n",
       " '2020-01-06 16:22:27': 1,\n",
       " '2020-01-08 21:53:33': 2,\n",
       " '2020-01-08 22:43:47': 3,\n",
       " '2020-01-08 21:54:31': 4,\n",
       " '2020-01-10 20:50:15': 5,\n",
       " '2020-01-08 22:21:37': 6,\n",
       " '2020-01-08 22:39:42': 7,\n",
       " '2020-01-06 20:16:20': 8,\n",
       " '2020-01-10 14:45:32': 9,\n",
       " '2020-01-08 21:54:00': 10,\n",
       " '2020-01-08 20:58:53': 11,\n",
       " '2020-01-08 21:50:52': 12,\n",
       " '2020-01-08 21:51:24': 13,\n",
       " '2020-01-06 16:24:33': 14,\n",
       " '2020-01-07 20:34:23': 15,\n",
       " '2020-01-08 21:53:02': 16,\n",
       " '2020-01-08 21:49:51': 17}"
      ]
     },
     "execution_count": 10,
     "metadata": {},
     "output_type": "execute_result"
    }
   ],
   "source": [
    "outputs"
   ]
  },
  {
   "cell_type": "code",
   "execution_count": 11,
   "metadata": {},
   "outputs": [
    {
     "data": {
      "application/vnd.jupyter.widget-view+json": {
       "model_id": "3d16fd8ae92c44f3919ea817fcae31b2",
       "version_major": 2,
       "version_minor": 0
      },
      "text/plain": [
       "interactive(children=(Dropdown(description='x', options=('2020-01-08 22:28:16', '2020-01-06 16:22:27', '2020-0…"
      ]
     },
     "metadata": {},
     "output_type": "display_data"
    }
   ],
   "source": [
    "def get_associated_ids(x):\n",
    "    associated_files = list()\n",
    "    i = outputs[x]\n",
    "    output_file = outputs_list[i]\n",
    "    if not os.stat(output_file).st_size == 0:\n",
    "        df = pd.read_csv(output_file)\n",
    "        html_files = list(df['results_filepath'])\n",
    "        \n",
    "        if len(html_files) > 0:\n",
    "            for html_file in html_files:\n",
    "                _id = os.path.basename(html_file).split('.')[0]\n",
    "                print('Associated ID: ',_id)\n",
    "                print('html filepath: ', html_list[_id])\n",
    "                print('log filepath: ', log_list[_id])\n",
    "                associated_files.append(html_list[_id])\n",
    "                associated_files.append(log_list[_id])\n",
    "        print(associated_files)\n",
    "    else:\n",
    "        print('Empty file.')\n",
    "\n",
    "w = interactive(get_associated_ids, x=outputs.keys());\n",
    "display(w)"
   ]
  },
  {
   "cell_type": "code",
   "execution_count": 12,
   "metadata": {},
   "outputs": [],
   "source": [
    "associated_files = ['../dask_io_experiments/experiment_1/outputs/57394fe7-f9c2-44a1-8e66-55e7096cc34b.html', '../dask_io_experiments/experiment_1/outputs/57394fe7-f9c2-44a1-8e66-55e7096cc34b.monitor.log', '../dask_io_experiments/experiment_1/outputs/24edf32b-3034-4de9-b473-0bb56fcc1200.html', '../dask_io_experiments/experiment_1/outputs/24edf32b-3034-4de9-b473-0bb56fcc1200.monitor.log', '../dask_io_experiments/experiment_1/outputs/65e8c93b-aafe-4c46-8e49-e2b309140671.html', '../dask_io_experiments/experiment_1/outputs/65e8c93b-aafe-4c46-8e49-e2b309140671.monitor.log', '../dask_io_experiments/experiment_1/outputs/e7fe67ba-229d-4ae9-be56-b97242392d0c.html', '../dask_io_experiments/experiment_1/outputs/e7fe67ba-229d-4ae9-be56-b97242392d0c.monitor.log', '../dask_io_experiments/experiment_1/outputs/1a9b1c4f-0815-4b97-a95b-a8f598a4d3b0.html', '../dask_io_experiments/experiment_1/outputs/1a9b1c4f-0815-4b97-a95b-a8f598a4d3b0.monitor.log', '../dask_io_experiments/experiment_1/outputs/451eed9f-fab0-4e6a-9e14-87934bbc8b54.html', '../dask_io_experiments/experiment_1/outputs/451eed9f-fab0-4e6a-9e14-87934bbc8b54.monitor.log', '../dask_io_experiments/experiment_1/outputs/b70146d4-4a3a-4e11-aed3-9ad34c4d3cac.html', '../dask_io_experiments/experiment_1/outputs/b70146d4-4a3a-4e11-aed3-9ad34c4d3cac.monitor.log', '../dask_io_experiments/experiment_1/outputs/b36635f1-b7d9-4843-aba7-8cdd63365345.html', '../dask_io_experiments/experiment_1/outputs/b36635f1-b7d9-4843-aba7-8cdd63365345.monitor.log', '../dask_io_experiments/experiment_1/outputs/8aca125f-8963-43b6-8de1-368138109b08.html', '../dask_io_experiments/experiment_1/outputs/8aca125f-8963-43b6-8de1-368138109b08.monitor.log', '../dask_io_experiments/experiment_1/outputs/8c56307e-f9dd-47ef-b85d-ee4dc79d7f6f.html', '../dask_io_experiments/experiment_1/outputs/8c56307e-f9dd-47ef-b85d-ee4dc79d7f6f.monitor.log', '../dask_io_experiments/experiment_1/outputs/7f56095d-8a7d-4229-9597-02d11883dc03.html', '../dask_io_experiments/experiment_1/outputs/7f56095d-8a7d-4229-9597-02d11883dc03.monitor.log', '../dask_io_experiments/experiment_1/outputs/7153e9be-445c-4ab9-84bb-bb95232ca486.html', '../dask_io_experiments/experiment_1/outputs/7153e9be-445c-4ab9-84bb-bb95232ca486.monitor.log', '../dask_io_experiments/experiment_1/outputs/9f63ed3d-28ec-4e7c-ae79-ebba0c4192d7.html', '../dask_io_experiments/experiment_1/outputs/9f63ed3d-28ec-4e7c-ae79-ebba0c4192d7.monitor.log', '../dask_io_experiments/experiment_1/outputs/5442b47a-a182-4752-b78e-836d9c003336.html', '../dask_io_experiments/experiment_1/outputs/5442b47a-a182-4752-b78e-836d9c003336.monitor.log', '../dask_io_experiments/experiment_1/outputs/4de6f9f3-7c61-4083-a9fd-ff368602d19e.html', '../dask_io_experiments/experiment_1/outputs/4de6f9f3-7c61-4083-a9fd-ff368602d19e.monitor.log', '../dask_io_experiments/experiment_1/outputs/ace87ba1-3a12-4a65-9727-eeaeef11654a.html', '../dask_io_experiments/experiment_1/outputs/ace87ba1-3a12-4a65-9727-eeaeef11654a.monitor.log', '../dask_io_experiments/experiment_1/outputs/87db14b7-3138-4da2-9b5b-2a5fb6c41f99.html', '../dask_io_experiments/experiment_1/outputs/87db14b7-3138-4da2-9b5b-2a5fb6c41f99.monitor.log', '../dask_io_experiments/experiment_1/outputs/aed0646e-2a64-45a3-a123-11ac9ab510e8.html', '../dask_io_experiments/experiment_1/outputs/aed0646e-2a64-45a3-a123-11ac9ab510e8.monitor.log']"
   ]
  },
  {
   "cell_type": "code",
   "execution_count": 13,
   "metadata": {},
   "outputs": [
    {
     "data": {
      "application/vnd.jupyter.widget-view+json": {
       "model_id": "632447f68fbd4dcf94ee923f9fe137a4",
       "version_major": 2,
       "version_minor": 0
      },
      "text/plain": [
       "Button(description='Transfer files.', style=ButtonStyle())"
      ]
     },
     "metadata": {},
     "output_type": "display_data"
    },
    {
     "data": {
      "application/vnd.jupyter.widget-view+json": {
       "model_id": "207e72ba994e40acb6c444ee7dde21a2",
       "version_major": 2,
       "version_minor": 0
      },
      "text/plain": [
       "Output()"
      ]
     },
     "metadata": {},
     "output_type": "display_data"
    }
   ],
   "source": [
    "from shutil import copyfile\n",
    "\n",
    "button = widgets.Button(description=\"Transfer files.\")\n",
    "output = widgets.Output()\n",
    "display(button, output)\n",
    "\n",
    "def on_button_clicked(b):\n",
    "    with output:\n",
    "        try:\n",
    "            for fp in associated_files:\n",
    "                filename = os.path.basename(fp)\n",
    "                copyfile(fp, os.path.join(results_dir, filename))\n",
    "            print(\"Done.\")\n",
    "        except:\n",
    "            print(\"Something went wrong.\")\n",
    "\n",
    "button.on_click(on_button_clicked)"
   ]
  },
  {
   "cell_type": "code",
   "execution_count": null,
   "metadata": {},
   "outputs": [],
   "source": []
  }
 ],
 "metadata": {
  "kernelspec": {
   "display_name": "Python 3",
   "language": "python",
   "name": "python3"
  },
  "language_info": {
   "codemirror_mode": {
    "name": "ipython",
    "version": 3
   },
   "file_extension": ".py",
   "mimetype": "text/x-python",
   "name": "python",
   "nbconvert_exporter": "python",
   "pygments_lexer": "ipython3",
   "version": "3.7.5"
  }
 },
 "nbformat": 4,
 "nbformat_minor": 2
}
