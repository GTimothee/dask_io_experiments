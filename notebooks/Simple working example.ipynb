{
 "cells": [
  {
   "cell_type": "code",
   "execution_count": 2,
   "metadata": {},
   "outputs": [],
   "source": [
    "import dask\n",
    "import dask.array as da"
   ]
  },
  {
   "cell_type": "code",
   "execution_count": 3,
   "metadata": {},
   "outputs": [],
   "source": [
    "PATH = 'myfirstpath.hdf5'\n",
    "DATASET_KEY = \"/data\""
   ]
  },
  {
   "cell_type": "code",
   "execution_count": 11,
   "metadata": {},
   "outputs": [],
   "source": [
    "def get_array():\n",
    "    with h5py.File(PATH, 'r') as f:\n",
    "        dataset = f[DATASET_KEY]\n",
    "        return da.from_array(dataset, chunks=(100, 100, 100))"
   ]
  },
  {
   "cell_type": "code",
   "execution_count": 12,
   "metadata": {},
   "outputs": [],
   "source": [
    "def create_array():\n",
    "    random_array = da.random.random(size=(500, 500, 500))\n",
    "    da.to_hdf5(PATH, DATASET_KEY, random_array, chunks=None, compression=None)"
   ]
  },
  {
   "cell_type": "code",
   "execution_count": 21,
   "metadata": {},
   "outputs": [],
   "source": [
    "create_array()"
   ]
  },
  {
   "cell_type": "markdown",
   "metadata": {},
   "source": [
    "# case 1 "
   ]
  },
  {
   "cell_type": "code",
   "execution_count": 15,
   "metadata": {},
   "outputs": [
    {
     "data": {
      "text/plain": [
       "{'add-5c59f4501b025d614eb3b19e1dad07f1': {'getitem-4757cb6c8bb3c3058f1e84d993bfd6d1'},\n",
       " 'getitem-4757cb6c8bb3c3058f1e84d993bfd6d1': {'array-e646486de5a1cca449ac013817900a77'},\n",
       " 'array-e646486de5a1cca449ac013817900a77': set()}"
      ]
     },
     "execution_count": 15,
     "metadata": {},
     "output_type": "execute_result"
    }
   ],
   "source": [
    "import h5py\n",
    "arr = get_array()\n",
    "arr = arr[slice(0, 400), slice(0, 200), slice(0, 100)]\n",
    "arr = arr + 21\n",
    "graph = arr.__dask_graph__()\n",
    "graph.dependencies"
   ]
  },
  {
   "cell_type": "markdown",
   "metadata": {},
   "source": [
    "# case 2 "
   ]
  },
  {
   "cell_type": "code",
   "execution_count": 23,
   "metadata": {},
   "outputs": [
    {
     "data": {
      "text/plain": [
       "{140359199321936: set(),\n",
       " 140359199317280: set(),\n",
       " 140359199330944: set(),\n",
       " 140359199995216: set(),\n",
       " 140359199319776: set(),\n",
       " 140359199739248: set()}"
      ]
     },
     "execution_count": 23,
     "metadata": {},
     "output_type": "execute_result"
    }
   ],
   "source": [
    "import h5py\n",
    "PATH2 = 'mysecondpath.hdf5'\n",
    "arr = get_array()\n",
    "arr_list = [arr[0:100, 0:100, :100], arr[100:200, 0:100, :100], arr[200:300, 0:100, :100]]\n",
    "\n",
    "datasets = list()\n",
    "with h5py.File(PATH2, 'a') as f:\n",
    "    for i, a in enumerate(arr_list):\n",
    "        key = '/data' + str(i)\n",
    "        datasets.append(f.create_dataset(key, shape=a.shape))\n",
    "\n",
    "arr = da.store(arr_list, datasets, compute=False)\n",
    "graph = arr.__dask_graph__()\n",
    "graph.dependencies"
   ]
  },
  {
   "cell_type": "code",
   "execution_count": null,
   "metadata": {},
   "outputs": [],
   "source": []
  }
 ],
 "metadata": {
  "kernelspec": {
   "display_name": "Python (thesis)",
   "language": "python",
   "name": "thesis"
  },
  "language_info": {
   "codemirror_mode": {
    "name": "ipython",
    "version": 3
   },
   "file_extension": ".py",
   "mimetype": "text/x-python",
   "name": "python",
   "nbconvert_exporter": "python",
   "pygments_lexer": "ipython3",
   "version": "3.7.5"
  }
 },
 "nbformat": 4,
 "nbformat_minor": 2
}
