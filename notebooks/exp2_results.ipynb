{
 "cells": [
  {
   "cell_type": "code",
   "execution_count": 3,
   "metadata": {},
   "outputs": [],
   "source": [
    "import os\n",
    "import pandas as pd\n",
    "import matplotlib.pyplot as plt\n",
    "%matplotlib inline"
   ]
  },
  {
   "cell_type": "code",
   "execution_count": 6,
   "metadata": {},
   "outputs": [],
   "source": [
    "results_dir = '/home/user/Documents/workspace/bigdataneurolab/thesis/optimization_project/dask_io_experiments/tmp_dir/exp1'\n",
    "results_path = os.path.join(results_dir, \"exp1_second_results.csv\")\n",
    "csv_data = pd.read_csv(results_path)"
   ]
  },
  {
   "cell_type": "code",
   "execution_count": 7,
   "metadata": {},
   "outputs": [
    {
     "data": {
      "text/html": [
       "<div>\n",
       "<style scoped>\n",
       "    .dataframe tbody tr th:only-of-type {\n",
       "        vertical-align: middle;\n",
       "    }\n",
       "\n",
       "    .dataframe tbody tr th {\n",
       "        vertical-align: top;\n",
       "    }\n",
       "\n",
       "    .dataframe thead th {\n",
       "        text-align: right;\n",
       "    }\n",
       "</style>\n",
       "<table border=\"1\" class=\"dataframe\">\n",
       "  <thead>\n",
       "    <tr style=\"text-align: right;\">\n",
       "      <th></th>\n",
       "      <th>hardware</th>\n",
       "      <th>cuboid_name</th>\n",
       "      <th>array_shape</th>\n",
       "      <th>chunk_type</th>\n",
       "      <th>chunk_shape</th>\n",
       "      <th>optimized</th>\n",
       "      <th>buffer_size</th>\n",
       "      <th>nthreads</th>\n",
       "      <th>processing_time_split</th>\n",
       "      <th>processing_time_merge</th>\n",
       "      <th>diagnostics_split</th>\n",
       "      <th>diagnostics_merge</th>\n",
       "      <th>monitor_split</th>\n",
       "      <th>monitor_merge</th>\n",
       "      <th>success_run_split</th>\n",
       "      <th>success_run_merge</th>\n",
       "    </tr>\n",
       "  </thead>\n",
       "  <tbody>\n",
       "    <tr>\n",
       "      <th>0</th>\n",
       "      <td>ssd</td>\n",
       "      <td>big</td>\n",
       "      <td>(3500, 3500, 3500)</td>\n",
       "      <td>blocks</td>\n",
       "      <td>(350, 350, 350)</td>\n",
       "      <td>False</td>\n",
       "      <td>15000000000</td>\n",
       "      <td>NaN</td>\n",
       "      <td>3793.3343</td>\n",
       "      <td>2331.5549</td>\n",
       "      <td>/home/gtimothee/outputs/2d7d490f-95f5-4846-9af...</td>\n",
       "      <td>/home/gtimothee/outputs/2d7d490f-95f5-4846-9af...</td>\n",
       "      <td>/home/gtimothee/outputs/2d7d490f-95f5-4846-9af...</td>\n",
       "      <td>/home/gtimothee/outputs/2d7d490f-95f5-4846-9af...</td>\n",
       "      <td>True</td>\n",
       "      <td>True</td>\n",
       "    </tr>\n",
       "    <tr>\n",
       "      <th>1</th>\n",
       "      <td>ssd</td>\n",
       "      <td>big</td>\n",
       "      <td>(3500, 3500, 3500)</td>\n",
       "      <td>slabs</td>\n",
       "      <td>(50, 3500, 3500)</td>\n",
       "      <td>False</td>\n",
       "      <td>15000000000</td>\n",
       "      <td>NaN</td>\n",
       "      <td>3556.9126</td>\n",
       "      <td>532.1945</td>\n",
       "      <td>/home/gtimothee/outputs/34e54f74-b37c-4438-8ee...</td>\n",
       "      <td>/home/gtimothee/outputs/34e54f74-b37c-4438-8ee...</td>\n",
       "      <td>/home/gtimothee/outputs/34e54f74-b37c-4438-8ee...</td>\n",
       "      <td>/home/gtimothee/outputs/34e54f74-b37c-4438-8ee...</td>\n",
       "      <td>True</td>\n",
       "      <td>True</td>\n",
       "    </tr>\n",
       "    <tr>\n",
       "      <th>2</th>\n",
       "      <td>ssd</td>\n",
       "      <td>big</td>\n",
       "      <td>(3500, 3500, 3500)</td>\n",
       "      <td>blocks</td>\n",
       "      <td>(875, 875, 875)</td>\n",
       "      <td>False</td>\n",
       "      <td>15000000000</td>\n",
       "      <td>NaN</td>\n",
       "      <td>3643.9940</td>\n",
       "      <td>656.6143</td>\n",
       "      <td>/home/gtimothee/outputs/a4941af8-c843-4f12-a69...</td>\n",
       "      <td>/home/gtimothee/outputs/a4941af8-c843-4f12-a69...</td>\n",
       "      <td>/home/gtimothee/outputs/a4941af8-c843-4f12-a69...</td>\n",
       "      <td>/home/gtimothee/outputs/a4941af8-c843-4f12-a69...</td>\n",
       "      <td>True</td>\n",
       "      <td>True</td>\n",
       "    </tr>\n",
       "    <tr>\n",
       "      <th>3</th>\n",
       "      <td>ssd</td>\n",
       "      <td>big</td>\n",
       "      <td>(3500, 3500, 3500)</td>\n",
       "      <td>slabs</td>\n",
       "      <td>(50, 3500, 3500)</td>\n",
       "      <td>True</td>\n",
       "      <td>15000000000</td>\n",
       "      <td>1.0</td>\n",
       "      <td>3545.7857</td>\n",
       "      <td>525.2598</td>\n",
       "      <td>/home/gtimothee/outputs/c2b2f8c5-e3b6-4007-8cd...</td>\n",
       "      <td>/home/gtimothee/outputs/c2b2f8c5-e3b6-4007-8cd...</td>\n",
       "      <td>/home/gtimothee/outputs/c2b2f8c5-e3b6-4007-8cd...</td>\n",
       "      <td>/home/gtimothee/outputs/c2b2f8c5-e3b6-4007-8cd...</td>\n",
       "      <td>True</td>\n",
       "      <td>True</td>\n",
       "    </tr>\n",
       "    <tr>\n",
       "      <th>4</th>\n",
       "      <td>ssd</td>\n",
       "      <td>big</td>\n",
       "      <td>(3500, 3500, 3500)</td>\n",
       "      <td>blocks</td>\n",
       "      <td>(500, 500, 500)</td>\n",
       "      <td>False</td>\n",
       "      <td>15000000000</td>\n",
       "      <td>NaN</td>\n",
       "      <td>3720.2483</td>\n",
       "      <td>806.3755</td>\n",
       "      <td>/home/gtimothee/outputs/542f3b51-5019-49fa-91e...</td>\n",
       "      <td>/home/gtimothee/outputs/542f3b51-5019-49fa-91e...</td>\n",
       "      <td>/home/gtimothee/outputs/542f3b51-5019-49fa-91e...</td>\n",
       "      <td>/home/gtimothee/outputs/542f3b51-5019-49fa-91e...</td>\n",
       "      <td>True</td>\n",
       "      <td>True</td>\n",
       "    </tr>\n",
       "  </tbody>\n",
       "</table>\n",
       "</div>"
      ],
      "text/plain": [
       "  hardware cuboid_name         array_shape chunk_type       chunk_shape  \\\n",
       "0      ssd         big  (3500, 3500, 3500)     blocks   (350, 350, 350)   \n",
       "1      ssd         big  (3500, 3500, 3500)      slabs  (50, 3500, 3500)   \n",
       "2      ssd         big  (3500, 3500, 3500)     blocks   (875, 875, 875)   \n",
       "3      ssd         big  (3500, 3500, 3500)      slabs  (50, 3500, 3500)   \n",
       "4      ssd         big  (3500, 3500, 3500)     blocks   (500, 500, 500)   \n",
       "\n",
       "   optimized  buffer_size  nthreads  processing_time_split  \\\n",
       "0      False  15000000000       NaN              3793.3343   \n",
       "1      False  15000000000       NaN              3556.9126   \n",
       "2      False  15000000000       NaN              3643.9940   \n",
       "3       True  15000000000       1.0              3545.7857   \n",
       "4      False  15000000000       NaN              3720.2483   \n",
       "\n",
       "   processing_time_merge                                  diagnostics_split  \\\n",
       "0              2331.5549  /home/gtimothee/outputs/2d7d490f-95f5-4846-9af...   \n",
       "1               532.1945  /home/gtimothee/outputs/34e54f74-b37c-4438-8ee...   \n",
       "2               656.6143  /home/gtimothee/outputs/a4941af8-c843-4f12-a69...   \n",
       "3               525.2598  /home/gtimothee/outputs/c2b2f8c5-e3b6-4007-8cd...   \n",
       "4               806.3755  /home/gtimothee/outputs/542f3b51-5019-49fa-91e...   \n",
       "\n",
       "                                   diagnostics_merge  \\\n",
       "0  /home/gtimothee/outputs/2d7d490f-95f5-4846-9af...   \n",
       "1  /home/gtimothee/outputs/34e54f74-b37c-4438-8ee...   \n",
       "2  /home/gtimothee/outputs/a4941af8-c843-4f12-a69...   \n",
       "3  /home/gtimothee/outputs/c2b2f8c5-e3b6-4007-8cd...   \n",
       "4  /home/gtimothee/outputs/542f3b51-5019-49fa-91e...   \n",
       "\n",
       "                                       monitor_split  \\\n",
       "0  /home/gtimothee/outputs/2d7d490f-95f5-4846-9af...   \n",
       "1  /home/gtimothee/outputs/34e54f74-b37c-4438-8ee...   \n",
       "2  /home/gtimothee/outputs/a4941af8-c843-4f12-a69...   \n",
       "3  /home/gtimothee/outputs/c2b2f8c5-e3b6-4007-8cd...   \n",
       "4  /home/gtimothee/outputs/542f3b51-5019-49fa-91e...   \n",
       "\n",
       "                                       monitor_merge  success_run_split  \\\n",
       "0  /home/gtimothee/outputs/2d7d490f-95f5-4846-9af...               True   \n",
       "1  /home/gtimothee/outputs/34e54f74-b37c-4438-8ee...               True   \n",
       "2  /home/gtimothee/outputs/a4941af8-c843-4f12-a69...               True   \n",
       "3  /home/gtimothee/outputs/c2b2f8c5-e3b6-4007-8cd...               True   \n",
       "4  /home/gtimothee/outputs/542f3b51-5019-49fa-91e...               True   \n",
       "\n",
       "   success_run_merge  \n",
       "0               True  \n",
       "1               True  \n",
       "2               True  \n",
       "3               True  \n",
       "4               True  "
      ]
     },
     "execution_count": 7,
     "metadata": {},
     "output_type": "execute_result"
    }
   ],
   "source": [
    "csv_data.head()"
   ]
  },
  {
   "cell_type": "code",
   "execution_count": 8,
   "metadata": {},
   "outputs": [
    {
     "name": "stdout",
     "output_type": "stream",
     "text": [
      "Number entries: 10\n"
     ]
    }
   ],
   "source": [
    "print(\"Number entries:\", len(csv_data.index))"
   ]
  },
  {
   "cell_type": "code",
   "execution_count": 55,
   "metadata": {},
   "outputs": [],
   "source": [
    "big_arr_data = csv_data[csv_data[\"cuboid_name\"]==\"big\"]\n",
    "big_arr_ssd = big_arr_data[big_arr_data[\"hardware\"]==\"ssd\"].drop(columns=[\"hardware\", \n",
    "    \"diagnostics_split\", \n",
    "    \"diagnostics_merge\",\n",
    "    \"monitor_split\", \n",
    "    \"monitor_merge\",\n",
    "    \"cuboid_name\",\n",
    "    \"array_shape\",\n",
    "    \"buffer_size\",\n",
    "    \"nthreads\"])\n",
    "big_arr_ssd_blocks = big_arr_ssd[big_arr_ssd[\"chunk_type\"]==\"blocks\"].drop(columns=[\"chunk_type\"])\n",
    "big_arr_ssd_slabs = big_arr_ssd[big_arr_ssd[\"chunk_type\"]==\"slabs\"].drop(columns=[\"chunk_type\"])"
   ]
  },
  {
   "cell_type": "code",
   "execution_count": 56,
   "metadata": {},
   "outputs": [],
   "source": [
    "big_arr_ssd_blocks_mean = big_arr_ssd_blocks.groupby([\"chunk_shape\", \"optimized\"]).mean()\n",
    "big_arr_ssd_blocks_std = big_arr_ssd_blocks.groupby([\"chunk_shape\", \"optimized\"]).std()\n",
    "big_arr_ssd_slabs_mean = big_arr_ssd_slabs.groupby([\"chunk_shape\", \"optimized\"]).mean()\n",
    "big_arr_ssd_slabs_std = big_arr_ssd_slabs.groupby([\"chunk_shape\", \"optimized\"]).std()"
   ]
  },
  {
   "cell_type": "code",
   "execution_count": 57,
   "metadata": {},
   "outputs": [
    {
     "data": {
      "text/html": [
       "<div>\n",
       "<style scoped>\n",
       "    .dataframe tbody tr th:only-of-type {\n",
       "        vertical-align: middle;\n",
       "    }\n",
       "\n",
       "    .dataframe tbody tr th {\n",
       "        vertical-align: top;\n",
       "    }\n",
       "\n",
       "    .dataframe thead th {\n",
       "        text-align: right;\n",
       "    }\n",
       "</style>\n",
       "<table border=\"1\" class=\"dataframe\">\n",
       "  <thead>\n",
       "    <tr style=\"text-align: right;\">\n",
       "      <th></th>\n",
       "      <th></th>\n",
       "      <th>processing_time_split</th>\n",
       "      <th>processing_time_merge</th>\n",
       "      <th>success_run_split</th>\n",
       "      <th>success_run_merge</th>\n",
       "    </tr>\n",
       "    <tr>\n",
       "      <th>chunk_shape</th>\n",
       "      <th>optimized</th>\n",
       "      <th></th>\n",
       "      <th></th>\n",
       "      <th></th>\n",
       "      <th></th>\n",
       "    </tr>\n",
       "  </thead>\n",
       "  <tbody>\n",
       "    <tr>\n",
       "      <th rowspan=\"2\" valign=\"top\">(350, 350, 350)</th>\n",
       "      <th>False</th>\n",
       "      <td>3793.3343</td>\n",
       "      <td>2331.5549</td>\n",
       "      <td>True</td>\n",
       "      <td>True</td>\n",
       "    </tr>\n",
       "    <tr>\n",
       "      <th>True</th>\n",
       "      <td>3640.8408</td>\n",
       "      <td>2317.8879</td>\n",
       "      <td>True</td>\n",
       "      <td>True</td>\n",
       "    </tr>\n",
       "    <tr>\n",
       "      <th rowspan=\"2\" valign=\"top\">(500, 500, 500)</th>\n",
       "      <th>False</th>\n",
       "      <td>3720.2483</td>\n",
       "      <td>806.3755</td>\n",
       "      <td>True</td>\n",
       "      <td>True</td>\n",
       "    </tr>\n",
       "    <tr>\n",
       "      <th>True</th>\n",
       "      <td>3624.0364</td>\n",
       "      <td>802.9553</td>\n",
       "      <td>True</td>\n",
       "      <td>True</td>\n",
       "    </tr>\n",
       "    <tr>\n",
       "      <th rowspan=\"2\" valign=\"top\">(875, 875, 875)</th>\n",
       "      <th>False</th>\n",
       "      <td>3643.9940</td>\n",
       "      <td>656.6143</td>\n",
       "      <td>True</td>\n",
       "      <td>True</td>\n",
       "    </tr>\n",
       "    <tr>\n",
       "      <th>True</th>\n",
       "      <td>3603.0829</td>\n",
       "      <td>678.7867</td>\n",
       "      <td>True</td>\n",
       "      <td>True</td>\n",
       "    </tr>\n",
       "  </tbody>\n",
       "</table>\n",
       "</div>"
      ],
      "text/plain": [
       "                           processing_time_split  processing_time_merge  \\\n",
       "chunk_shape     optimized                                                 \n",
       "(350, 350, 350) False                  3793.3343              2331.5549   \n",
       "                True                   3640.8408              2317.8879   \n",
       "(500, 500, 500) False                  3720.2483               806.3755   \n",
       "                True                   3624.0364               802.9553   \n",
       "(875, 875, 875) False                  3643.9940               656.6143   \n",
       "                True                   3603.0829               678.7867   \n",
       "\n",
       "                           success_run_split  success_run_merge  \n",
       "chunk_shape     optimized                                        \n",
       "(350, 350, 350) False                   True               True  \n",
       "                True                    True               True  \n",
       "(500, 500, 500) False                   True               True  \n",
       "                True                    True               True  \n",
       "(875, 875, 875) False                   True               True  \n",
       "                True                    True               True  "
      ]
     },
     "execution_count": 57,
     "metadata": {},
     "output_type": "execute_result"
    }
   ],
   "source": [
    "big_arr_ssd_blocks_mean"
   ]
  },
  {
   "cell_type": "code",
   "execution_count": 58,
   "metadata": {},
   "outputs": [
    {
     "data": {
      "text/html": [
       "<div>\n",
       "<style scoped>\n",
       "    .dataframe tbody tr th:only-of-type {\n",
       "        vertical-align: middle;\n",
       "    }\n",
       "\n",
       "    .dataframe tbody tr th {\n",
       "        vertical-align: top;\n",
       "    }\n",
       "\n",
       "    .dataframe thead th {\n",
       "        text-align: right;\n",
       "    }\n",
       "</style>\n",
       "<table border=\"1\" class=\"dataframe\">\n",
       "  <thead>\n",
       "    <tr style=\"text-align: right;\">\n",
       "      <th></th>\n",
       "      <th></th>\n",
       "      <th>processing_time_split</th>\n",
       "      <th>processing_time_merge</th>\n",
       "      <th>success_run_split</th>\n",
       "      <th>success_run_merge</th>\n",
       "    </tr>\n",
       "    <tr>\n",
       "      <th>chunk_shape</th>\n",
       "      <th>optimized</th>\n",
       "      <th></th>\n",
       "      <th></th>\n",
       "      <th></th>\n",
       "      <th></th>\n",
       "    </tr>\n",
       "  </thead>\n",
       "  <tbody>\n",
       "    <tr>\n",
       "      <th rowspan=\"2\" valign=\"top\">(28, 3500, 3500)</th>\n",
       "      <th>False</th>\n",
       "      <td>3553.9254</td>\n",
       "      <td>534.1883</td>\n",
       "      <td>True</td>\n",
       "      <td>True</td>\n",
       "    </tr>\n",
       "    <tr>\n",
       "      <th>True</th>\n",
       "      <td>3562.0140</td>\n",
       "      <td>533.0289</td>\n",
       "      <td>True</td>\n",
       "      <td>True</td>\n",
       "    </tr>\n",
       "    <tr>\n",
       "      <th rowspan=\"2\" valign=\"top\">(50, 3500, 3500)</th>\n",
       "      <th>False</th>\n",
       "      <td>3556.9126</td>\n",
       "      <td>532.1945</td>\n",
       "      <td>True</td>\n",
       "      <td>True</td>\n",
       "    </tr>\n",
       "    <tr>\n",
       "      <th>True</th>\n",
       "      <td>3545.7857</td>\n",
       "      <td>525.2598</td>\n",
       "      <td>True</td>\n",
       "      <td>True</td>\n",
       "    </tr>\n",
       "  </tbody>\n",
       "</table>\n",
       "</div>"
      ],
      "text/plain": [
       "                            processing_time_split  processing_time_merge  \\\n",
       "chunk_shape      optimized                                                 \n",
       "(28, 3500, 3500) False                  3553.9254               534.1883   \n",
       "                 True                   3562.0140               533.0289   \n",
       "(50, 3500, 3500) False                  3556.9126               532.1945   \n",
       "                 True                   3545.7857               525.2598   \n",
       "\n",
       "                            success_run_split  success_run_merge  \n",
       "chunk_shape      optimized                                        \n",
       "(28, 3500, 3500) False                   True               True  \n",
       "                 True                    True               True  \n",
       "(50, 3500, 3500) False                   True               True  \n",
       "                 True                    True               True  "
      ]
     },
     "execution_count": 58,
     "metadata": {},
     "output_type": "execute_result"
    }
   ],
   "source": [
    "big_arr_ssd_slabs_mean"
   ]
  },
  {
   "cell_type": "code",
   "execution_count": 52,
   "metadata": {},
   "outputs": [],
   "source": [
    "blocks_mean_1 = big_arr_ssd_blocks_mean.xs('(350, 350, 350)', level='chunk_shape').drop(columns=[\"success_run_split\", \"success_run_merge\"])\n",
    "blocks_mean_2 = big_arr_ssd_blocks_mean.xs('(500, 500, 500)', level='chunk_shape').drop(columns=[\"success_run_split\", \"success_run_merge\"])\n",
    "blocks_mean_3 = big_arr_ssd_blocks_mean.xs('(875, 875, 875)', level='chunk_shape').drop(columns=[\"success_run_split\", \"success_run_merge\"])\n",
    "blocks_std_1 = big_arr_ssd_blocks_std.xs('(350, 350, 350)', level='chunk_shape').drop(columns=[\"success_run_split\", \"success_run_merge\"])\n",
    "blocks_std_2 = big_arr_ssd_blocks_std.xs('(500, 500, 500)', level='chunk_shape').drop(columns=[\"success_run_split\", \"success_run_merge\"])\n",
    "blocks_std_3 = big_arr_ssd_blocks_std.xs('(875, 875, 875)', level='chunk_shape').drop(columns=[\"success_run_split\", \"success_run_merge\"])"
   ]
  },
  {
   "cell_type": "code",
   "execution_count": 60,
   "metadata": {},
   "outputs": [],
   "source": [
    "slabs_mean_1 = big_arr_ssd_slabs_mean.xs('(28, 3500, 3500)', level='chunk_shape').drop(columns=[\"success_run_split\", \"success_run_merge\"])\n",
    "slabs_mean_2 = big_arr_ssd_slabs_mean.xs('(50, 3500, 3500)', level='chunk_shape').drop(columns=[\"success_run_split\", \"success_run_merge\"])\n",
    "slabs_std_1 = big_arr_ssd_slabs_std.xs('(28, 3500, 3500)', level='chunk_shape').drop(columns=[\"success_run_split\", \"success_run_merge\"])\n",
    "slabs_std_2 = big_arr_ssd_slabs_std.xs('(50, 3500, 3500)', level='chunk_shape').drop(columns=[\"success_run_split\", \"success_run_merge\"])"
   ]
  },
  {
   "cell_type": "code",
   "execution_count": 62,
   "metadata": {},
   "outputs": [
    {
     "data": {
      "text/plain": [
       "Text(0.5, 0.98, 'Results of experiment 2 for blocks')"
      ]
     },
     "execution_count": 62,
     "metadata": {},
     "output_type": "execute_result"
    },
    {
     "data": {
      "image/png": "[encoded data removed]",
      "text/plain": [
       "<Figure size 1080x360 with 3 Axes>"
      ]
     },
     "metadata": {
      "needs_background": "light"
     },
     "output_type": "display_data"
    }
   ],
   "source": [
    "fig, axes = plt.subplots(nrows=1, ncols=3, figsize=(15, 5), sharey=True)\n",
    "blocks_mean_1.plot(kind=\"bar\", ax=axes[0], yerr=blocks_std_1, rot=0, title=\"Chunk shape: (350, 350, 350)\")\n",
    "blocks_mean_2.plot(kind=\"bar\", ax=axes[1], yerr=blocks_std_2, rot=0, title=\"Chunk shape: (500, 500, 500)\")\n",
    "blocks_mean_3.plot(kind=\"bar\", ax=axes[2], yerr=blocks_std_3, rot=0, title=\"Chunk shape: (875, 875, 875)\")\n",
    "axes[0].grid(axis=\"y\")\n",
    "axes[1].grid(axis=\"y\")\n",
    "axes[2].grid(axis=\"y\")\n",
    "fig.suptitle('Results of experiment 2 for blocks', fontsize=16)"
   ]
  },
  {
   "cell_type": "code",
   "execution_count": 63,
   "metadata": {},
   "outputs": [
    {
     "data": {
      "text/plain": [
       "Text(0.5, 0.98, 'Results of experiment 2 for slabs')"
      ]
     },
     "execution_count": 63,
     "metadata": {},
     "output_type": "execute_result"
    },
    {
     "data": {
      "image/png": "[encoded data removed]",
      "text/plain": [
       "<Figure size 1080x360 with 2 Axes>"
      ]
     },
     "metadata": {
      "needs_background": "light"
     },
     "output_type": "display_data"
    }
   ],
   "source": [
    "fig, axes = plt.subplots(nrows=1, ncols=2, figsize=(15, 5), sharey=True)\n",
    "slabs_mean_1.plot(kind=\"bar\", ax=axes[0], yerr=slabs_std_1, rot=0, title=\"Chunk shape: (28, 3500, 3500)\")\n",
    "slabs_mean_2.plot(kind=\"bar\", ax=axes[1], yerr=slabs_std_2, rot=0, title=\"Chunk shape: (50, 3500, 3500)\")\n",
    "axes[0].grid(axis=\"y\")\n",
    "axes[1].grid(axis=\"y\")\n",
    "fig.suptitle('Results of experiment 2 for slabs', fontsize=16)"
   ]
  },
  {
   "cell_type": "code",
   "execution_count": 8,
   "metadata": {},
   "outputs": [],
   "source": [
    "imgfilepath = \"/home/user/Documents/workspace/bigdataneurolab/thesis/optimization_project/dask_io_experiments/tmp_dir/second.png\"\n",
    "fig.savefig(imgfilepath)"
   ]
  },
  {
   "cell_type": "code",
   "execution_count": null,
   "metadata": {},
   "outputs": [],
   "source": []
  }
 ],
 "metadata": {
  "kernelspec": {
   "display_name": "Python (thesis)",
   "language": "python",
   "name": "thesis"
  },
  "language_info": {
   "codemirror_mode": {
    "name": "ipython",
    "version": 3
   },
   "file_extension": ".py",
   "mimetype": "text/x-python",
   "name": "python",
   "nbconvert_exporter": "python",
   "pygments_lexer": "ipython3",
   "version": "3.7.5"
  }
 },
 "nbformat": 4,
 "nbformat_minor": 2
}
