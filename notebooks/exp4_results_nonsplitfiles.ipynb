{
 "cells": [
  {
   "cell_type": "code",
   "execution_count": 1,
   "metadata": {},
   "outputs": [],
   "source": [
    "import pandas as pd\n",
    "import matplotlib.pyplot as plt\n",
    "%matplotlib inline"
   ]
  },
  {
   "cell_type": "code",
   "execution_count": 2,
   "metadata": {},
   "outputs": [],
   "source": [
    "results_path = \"/home/user/Documents/workspace/bigdataneurolab/thesis/optimization_project/dask_io_experiments/tmp_dir/exp4/exp4_nonsplitfiles_membound.csv\"\n",
    "cols = [\"hardware\", \"chunk shape\", \"split time(s)\", \"merge time(s)\"]\n",
    "csv_data = pd.read_csv(results_path)"
   ]
  },
  {
   "cell_type": "code",
   "execution_count": 3,
   "metadata": {},
   "outputs": [
    {
     "name": "stdout",
     "output_type": "stream",
     "text": [
      "nb rows: 20\n"
     ]
    },
    {
     "data": {
      "text/html": [
       "<div>\n",
       "<style scoped>\n",
       "    .dataframe tbody tr th:only-of-type {\n",
       "        vertical-align: middle;\n",
       "    }\n",
       "\n",
       "    .dataframe tbody tr th {\n",
       "        vertical-align: top;\n",
       "    }\n",
       "\n",
       "    .dataframe thead th {\n",
       "        text-align: right;\n",
       "    }\n",
       "</style>\n",
       "<table border=\"1\" class=\"dataframe\">\n",
       "  <thead>\n",
       "    <tr style=\"text-align: right;\">\n",
       "      <th></th>\n",
       "      <th>hardware</th>\n",
       "      <th>chunks_shape</th>\n",
       "      <th>split_time</th>\n",
       "    </tr>\n",
       "  </thead>\n",
       "  <tbody>\n",
       "    <tr>\n",
       "      <th>0</th>\n",
       "      <td>SSD</td>\n",
       "      <td>(275, 189, 250)</td>\n",
       "      <td>450.75</td>\n",
       "    </tr>\n",
       "    <tr>\n",
       "      <th>1</th>\n",
       "      <td>SSD</td>\n",
       "      <td>(5, 1512, 1750)</td>\n",
       "      <td>428.75</td>\n",
       "    </tr>\n",
       "    <tr>\n",
       "      <th>2</th>\n",
       "      <td>HDD</td>\n",
       "      <td>(275, 189, 250)</td>\n",
       "      <td>472.75</td>\n",
       "    </tr>\n",
       "    <tr>\n",
       "      <th>3</th>\n",
       "      <td>HDD</td>\n",
       "      <td>(5, 1512, 1750)</td>\n",
       "      <td>436.25</td>\n",
       "    </tr>\n",
       "    <tr>\n",
       "      <th>4</th>\n",
       "      <td>SSD</td>\n",
       "      <td>(275, 189, 250)</td>\n",
       "      <td>448.75</td>\n",
       "    </tr>\n",
       "  </tbody>\n",
       "</table>\n",
       "</div>"
      ],
      "text/plain": [
       "  hardware     chunks_shape  split_time\n",
       "0      SSD  (275, 189, 250)      450.75\n",
       "1      SSD  (5, 1512, 1750)      428.75\n",
       "2      HDD  (275, 189, 250)      472.75\n",
       "3      HDD  (5, 1512, 1750)      436.25\n",
       "4      SSD  (275, 189, 250)      448.75"
      ]
     },
     "execution_count": 3,
     "metadata": {},
     "output_type": "execute_result"
    }
   ],
   "source": [
    "print(\"nb rows:\", len(csv_data.index))\n",
    "csv_data[\"split_time\"] = csv_data[\"split_time\"].astype('float16')\n",
    "csv_data = csv_data.drop(columns=[\"merge_time\"])\n",
    "csv_data.head()"
   ]
  },
  {
   "cell_type": "code",
   "execution_count": 4,
   "metadata": {},
   "outputs": [],
   "source": [
    "hdd_data = csv_data[csv_data[\"hardware\"]==\"HDD\"].drop(columns=[\"hardware\"])\n",
    "ssd_data = csv_data[csv_data[\"hardware\"]==\"SSD\"].drop(columns=[\"hardware\"])"
   ]
  },
  {
   "cell_type": "code",
   "execution_count": 5,
   "metadata": {},
   "outputs": [],
   "source": [
    "hdd_data_mean = hdd_data.groupby([\"chunks_shape\"]).mean()\n",
    "hdd_data_std = hdd_data.groupby([\"chunks_shape\"]).std()\n",
    "ssd_data_mean = ssd_data.groupby([\"chunks_shape\"]).mean()\n",
    "ssd_data_std = ssd_data.groupby([\"chunks_shape\"]).std()"
   ]
  },
  {
   "cell_type": "code",
   "execution_count": 6,
   "metadata": {},
   "outputs": [],
   "source": [
    "# csv_data = csv_data.replace(\"(5, 1512, 1750)\", \"good\").replace(\"(275, 189, 250)\", \"bad\")\n",
    "# csv_data_mean = csv_data_mean.sort_values(by=\"chunk shape\")\n",
    "# csv_data_mean"
   ]
  },
  {
   "cell_type": "code",
   "execution_count": 7,
   "metadata": {},
   "outputs": [
    {
     "data": {
      "text/plain": [
       "Text(0.5, 0.98, 'Results of experiment 1 comparing dask behavior when splitting/merging 3D arrays')"
      ]
     },
     "execution_count": 7,
     "metadata": {},
     "output_type": "execute_result"
    },
    {
     "data": {
      "image/png": "[encoded data removed]",
      "text/plain": [
       "<Figure size 1080x360 with 2 Axes>"
      ]
     },
     "metadata": {
      "needs_background": "light"
     },
     "output_type": "display_data"
    }
   ],
   "source": [
    "fig, axes = plt.subplots(nrows=1, ncols=2, figsize=(15, 5), sharey=True)\n",
    "hdd_data_mean.plot(kind=\"bar\", ax=axes[0], yerr=hdd_data_std, rot=0, title=\"Lustre\")\n",
    "ssd_data_mean.plot(kind=\"bar\", ax=axes[1], yerr=ssd_data_std, rot=0, title=\"SSD\")\n",
    "axes[0].grid(axis=\"y\")\n",
    "axes[1].grid(axis=\"y\")\n",
    "fig.suptitle('Results of experiment 1 comparing dask behavior when splitting/merging 3D arrays', fontsize=16)"
   ]
  },
  {
   "cell_type": "code",
   "execution_count": 8,
   "metadata": {},
   "outputs": [],
   "source": [
    "imgfilepath = \"/home/user/Documents/workspace/bigdataneurolab/thesis/optimization_project/dask_io_experiments/tmp_dir/second.png\"\n",
    "# fig.savefig(imgfilepath)"
   ]
  },
  {
   "cell_type": "code",
   "execution_count": null,
   "metadata": {},
   "outputs": [],
   "source": []
  }
 ],
 "metadata": {
  "kernelspec": {
   "display_name": "Python (thesis)",
   "language": "python",
   "name": "thesis"
  },
  "language_info": {
   "codemirror_mode": {
    "name": "ipython",
    "version": 3
   },
   "file_extension": ".py",
   "mimetype": "text/x-python",
   "name": "python",
   "nbconvert_exporter": "python",
   "pygments_lexer": "ipython3",
   "version": "3.7.5"
  }
 },
 "nbformat": 4,
 "nbformat_minor": 2
}
