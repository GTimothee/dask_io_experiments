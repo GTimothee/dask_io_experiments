{
 "cells": [
  {
   "cell_type": "code",
   "execution_count": 1,
   "metadata": {},
   "outputs": [],
   "source": [
    "cases1 = {\n",
    "    'all mismatch': {\n",
    "        'R': (120,120,120),\n",
    "        'I': (30,30,30),\n",
    "        'O': (20,20,20)\n",
    "    },\n",
    "    'mismatch in j and i': {\n",
    "        'R': (120,120,120),\n",
    "        'I': (30,30,20),\n",
    "        'O': (20,20,20)\n",
    "    },\n",
    "    'mismatch in i only': {\n",
    "        'R': (120,120,120),\n",
    "        'I': (30,20,20),\n",
    "        'O': (20,20,20)\n",
    "    },\n",
    "    # 'all equal': {\n",
    "    #    'R': (120,120,120),\n",
    "    #    'I': (20,20,20),\n",
    "    #    'O': (20,20,20)\n",
    "    #}\n",
    "}\n",
    "cases = {\n",
    "    'mismatch in k,j,i': {\n",
    "        'R': (240,240,240),\n",
    "        'I': (30,30,30),\n",
    "        'O': (20,20,20)\n",
    "    },\n",
    "    'mismatch in j,i': {\n",
    "        'R': (240,240,240),\n",
    "        'I': (30,30,20),\n",
    "        'O': (20,20,20)\n",
    "    },\n",
    "    'mismatch in i': {\n",
    "        'R': (240,240,240),\n",
    "        'I': (30,20,20),\n",
    "        'O': (20,20,20)\n",
    "    },\n",
    "    # 'all equal': {\n",
    "    #    'R': (120,120,120),\n",
    "    #    'I': (20,20,20),\n",
    "    #    'O': (20,20,20)\n",
    "    #}\n",
    "}"
   ]
  },
  {
   "cell_type": "code",
   "execution_count": 2,
   "metadata": {},
   "outputs": [],
   "source": [
    "def baseline_seek_model(args):\n",
    "    R, I, O = args[\"R\"], args[\"I\"], args[\"O\"]\n",
    "    p = list()\n",
    "    d = list()\n",
    "    for i in range(3):\n",
    "        p.append(list())\n",
    "        d.append(list())\n",
    "\n",
    "        v_in = 0\n",
    "        while v_in < R[i]: # does not contain last one\n",
    "            if v_in != 0: # does not contain 0\n",
    "                p[i].append(v_in)\n",
    "                d[i].append(v_in)\n",
    "            v_in += I[i]\n",
    "\n",
    "        v_out = 0\n",
    "        while v_out < R[i]: # does not contain last one\n",
    "            if v_out not in p[i] and v_out != 0: # does not contain 0\n",
    "                p[i].append(v_out)\n",
    "            elif v_out in d[i]:\n",
    "                d[i].remove(v_out)\n",
    "            v_out += O[i]\n",
    "    \n",
    "    print(f'p: {p}')\n",
    "    \n",
    "    print(f'd: {d}')\n",
    "    d = [len(d[i]) for i in range(len(d))]\n",
    "    print(f'd: {d}')\n",
    "    \n",
    "    alpha = [1 if d[i] > 0 else 0 for i in range(len(d))]\n",
    "    print(f'alpha: {alpha}')\n",
    "    \n",
    "    s_read = tuple([r/i for r, i in zip(R, I)])\n",
    "    s_read = s_read[0] * s_read[1] * s_read[2]\n",
    "    print(f'sread: {s_read}')\n",
    "    \n",
    "    nk = R[2]/I[2]\n",
    "    nj = R[1]/I[1]\n",
    "    print(f'nk: {nk}')\n",
    "    print(f'nj: {nj}')\n",
    "    \n",
    "    case1 = (d[2]+1)*R[0]*R[1]*alpha[2]\n",
    "    case2 = (d[1]+1)*R[0]*nk*(1-alpha[2])*alpha[1]\n",
    "    case3 = (d[0]+1)*nj*nk*(1-alpha[2])*(1-alpha[1]*alpha[0])\n",
    "    s_write = case1 + case2 + case3\n",
    "    nb_outfiles = (len(p[0])-1)*(len(p[1])-1)*(len(p[2])-1)*(1-alpha[0])*(1-alpha[1])*(1-alpha[2])\n",
    "    print(f'case1: {case1}')\n",
    "    print(f'case2: {case2}')\n",
    "    print(f'case3: {case3}')\n",
    "    print(f'swrite: {s_write}')\n",
    "    print(f'nb_outfiles: {nb_outfiles}')\n",
    "    \n",
    "    s = s_read + s_write + nb_outfiles\n",
    "    print(f'\\nresult: s={s}')\n",
    "    return s"
   ]
  },
  {
   "cell_type": "code",
   "execution_count": 3,
   "metadata": {},
   "outputs": [
    {
     "name": "stdout",
     "output_type": "stream",
     "text": [
      "\n",
      "Processing case mismatch in k,j,i\n",
      "p: [[30, 60, 90, 120, 150, 180, 210, 20, 40, 80, 100, 140, 160, 200, 220], [30, 60, 90, 120, 150, 180, 210, 20, 40, 80, 100, 140, 160, 200, 220], [30, 60, 90, 120, 150, 180, 210, 20, 40, 80, 100, 140, 160, 200, 220]]\n",
      "d: [[30, 90, 150, 210], [30, 90, 150, 210], [30, 90, 150, 210]]\n",
      "d: [4, 4, 4]\n",
      "alpha: [1, 1, 1]\n",
      "sread: 512.0\n",
      "nk: 8.0\n",
      "nj: 8.0\n",
      "case1: 288000\n",
      "case2: 0.0\n",
      "case3: 0.0\n",
      "swrite: 288000.0\n",
      "nb_outfiles: 0\n",
      "\n",
      "result: s=288512.0\n",
      "\n",
      "Processing case mismatch in j,i\n",
      "p: [[30, 60, 90, 120, 150, 180, 210, 20, 40, 80, 100, 140, 160, 200, 220], [30, 60, 90, 120, 150, 180, 210, 20, 40, 80, 100, 140, 160, 200, 220], [20, 40, 60, 80, 100, 120, 140, 160, 180, 200, 220]]\n",
      "d: [[30, 90, 150, 210], [30, 90, 150, 210], []]\n",
      "d: [4, 4, 0]\n",
      "alpha: [1, 1, 0]\n",
      "sread: 768.0\n",
      "nk: 12.0\n",
      "nj: 8.0\n",
      "case1: 0\n",
      "case2: 14400.0\n",
      "case3: 0.0\n",
      "swrite: 14400.0\n",
      "nb_outfiles: 0\n",
      "\n",
      "result: s=15168.0\n",
      "\n",
      "Processing case mismatch in i\n",
      "p: [[30, 60, 90, 120, 150, 180, 210, 20, 40, 80, 100, 140, 160, 200, 220], [20, 40, 60, 80, 100, 120, 140, 160, 180, 200, 220], [20, 40, 60, 80, 100, 120, 140, 160, 180, 200, 220]]\n",
      "d: [[30, 90, 150, 210], [], []]\n",
      "d: [4, 0, 0]\n",
      "alpha: [1, 0, 0]\n",
      "sread: 1152.0\n",
      "nk: 12.0\n",
      "nj: 12.0\n",
      "case1: 0\n",
      "case2: 0.0\n",
      "case3: 720.0\n",
      "swrite: 720.0\n",
      "nb_outfiles: 0\n",
      "\n",
      "result: s=1872.0\n"
     ]
    }
   ],
   "source": [
    "results = list()\n",
    "for name, data in cases.items():\n",
    "    print(f'\\nProcessing case {name}')\n",
    "    res = baseline_seek_model(data)\n",
    "    results.append(res)"
   ]
  },
  {
   "cell_type": "code",
   "execution_count": 6,
   "metadata": {},
   "outputs": [
    {
     "data": {
      "text/plain": [
       "Text(0.5, 1.0, 'Number of seeks depending on the number of mismatch dimensions\\n')"
      ]
     },
     "execution_count": 6,
     "metadata": {},
     "output_type": "execute_result"
    },
    {
     "data": {
      "image/png": "[encoded data removed]",
      "text/plain": [
       "<Figure size 432x288 with 1 Axes>"
      ]
     },
     "metadata": {
      "needs_background": "light"
     },
     "output_type": "display_data"
    }
   ],
   "source": [
    "import matplotlib.pyplot as plt\n",
    "plt.bar(list(cases.keys()), results)\n",
    "plt.ylabel('Number of seeks')\n",
    "plt.title('Number of seeks depending on the number of mismatch dimensions\\n')"
   ]
  },
  {
   "cell_type": "code",
   "execution_count": 5,
   "metadata": {},
   "outputs": [
    {
     "data": {
      "text/plain": [
       "Text(0.5, 1.0, 'Percentage of seek gains depending on number of mismatch dimensions')"
      ]
     },
     "execution_count": 5,
     "metadata": {},
     "output_type": "execute_result"
    },
    {
     "data": {
      "image/png": "[encoded data removed]",
      "text/plain": [
       "<Figure size 432x288 with 1 Axes>"
      ]
     },
     "metadata": {
      "needs_background": "light"
     },
     "output_type": "display_data"
    }
   ],
   "source": [
    "results2 = [0, 100 - (results[1] * 100 / results[0]), 100 - (results[2] * 100 / results[1])]\n",
    "plt.bar(list(cases.keys()), results2)\n",
    "plt.title('Percentage of seek gains depending on number of mismatch dimensions')"
   ]
  }
 ],
 "metadata": {
  "kernelspec": {
   "display_name": "Python (thesis)",
   "language": "python",
   "name": "thesis"
  },
  "language_info": {
   "codemirror_mode": {
    "name": "ipython",
    "version": 3
   },
   "file_extension": ".py",
   "mimetype": "text/x-python",
   "name": "python",
   "nbconvert_exporter": "python",
   "pygments_lexer": "ipython3",
   "version": "3.7.5"
  }
 },
 "nbformat": 4,
 "nbformat_minor": 2
}
